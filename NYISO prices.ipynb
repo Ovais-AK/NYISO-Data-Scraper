{
 "cells": [
  {
   "cell_type": "code",
   "execution_count": 75,
   "metadata": {},
   "outputs": [
    {
     "name": "stdout",
     "output_type": "stream",
     "text": [
      "The autoreload extension is already loaded. To reload it, use:\n",
      "  %reload_ext autoreload\n"
     ]
    }
   ],
   "source": [
    "%load_ext autoreload\n",
    "%autoreload 2"
   ]
  },
  {
   "cell_type": "code",
   "execution_count": 80,
   "metadata": {},
   "outputs": [],
   "source": [
    "from src import get_soup_obj, get_zipfile_urls, zipfiles_to_df\n",
    "import pandas as pd"
   ]
  },
  {
   "cell_type": "markdown",
   "metadata": {},
   "source": [
    "Duration for longer-running cells are commented. <br>\n",
    "Runtimes are computed with reference to a laptop with:<br>\n",
    "- OS: Windows 10 Home 64-bit\n",
    "- CPU: Intel Core i5 @ 2.40GHz\n",
    "- RAM: 16 GB"
   ]
  },
  {
   "cell_type": "markdown",
   "metadata": {},
   "source": [
    "#### **Prices**"
   ]
  },
  {
   "cell_type": "markdown",
   "metadata": {},
   "source": [
    "DAM LBMP by zone (1999 - 2024)"
   ]
  },
  {
   "cell_type": "code",
   "execution_count": 24,
   "metadata": {},
   "outputs": [],
   "source": [
    "url = 'http://mis.nyiso.com/public/P-2Alist.htm'\n",
    "soup = get_soup_obj(url)\n",
    "zipfile_urls = get_zipfile_urls(soup, 'http://mis.nyiso.com/public')"
   ]
  },
  {
   "cell_type": "code",
   "execution_count": 26,
   "metadata": {},
   "outputs": [],
   "source": [
    "# runtime: 2.5 minutes\n",
    "df = zipfiles_to_df(zipfile_urls)"
   ]
  },
  {
   "cell_type": "code",
   "execution_count": null,
   "metadata": {},
   "outputs": [],
   "source": [
    "df.head()"
   ]
  },
  {
   "cell_type": "code",
   "execution_count": 71,
   "metadata": {},
   "outputs": [],
   "source": [
    "# post-processing\n",
    "\n",
    "# Apply datetime format to the 'Time Stamp' column\n",
    "df[\"Time Stamp\"] = pd.to_datetime(df[\"Time Stamp\"], format=\"%m/%d/%Y %H:%M\")\n",
    "\n",
    "# sort in chronological order\n",
    "df = df.sort_values(by=[\"Time Stamp\", \"Name\"], ascending=[True, True])\n",
    "\n",
    "# merge the two marginal congestion cost columns \n",
    "df['Marginal Cost Congestion ($/MWHr)'] = df['Marginal Cost Congestion ($/MWHr)'].fillna(df['Marginal Cost Congestion ($/MWH'])\n",
    "df.drop(columns=['Marginal Cost Congestion ($/MWH'], inplace=True)"
   ]
  },
  {
   "cell_type": "code",
   "execution_count": 73,
   "metadata": {},
   "outputs": [],
   "source": [
    "df.to_csv('data/damlbmp_zone_1999-2024.csv', index=False)"
   ]
  },
  {
   "cell_type": "markdown",
   "metadata": {},
   "source": [
    "DAM LBMP by generator (1999-2024)"
   ]
  },
  {
   "cell_type": "code",
   "execution_count": 77,
   "metadata": {},
   "outputs": [],
   "source": [
    "url = 'http://mis.nyiso.com/public/P-2Blist.htm'\n",
    "soup = get_soup_obj(url)\n",
    "zipfile_urls = get_zipfile_urls(soup, 'http://mis.nyiso.com/public')"
   ]
  },
  {
   "cell_type": "code",
   "execution_count": 81,
   "metadata": {},
   "outputs": [],
   "source": [
    "# runtime: 14 minutes\n",
    "df = zipfiles_to_df(zipfile_urls)"
   ]
  },
  {
   "cell_type": "code",
   "execution_count": 84,
   "metadata": {},
   "outputs": [],
   "source": [
    "# runtime: 2 minutes\n",
    "\n",
    "# Apply datetime format to the 'Time Stamp' column\n",
    "df[\"Time Stamp\"] = pd.to_datetime(df[\"Time Stamp\"], format=\"%m/%d/%Y %H:%M\")\n",
    "\n",
    "# sort in chronological order\n",
    "df = df.sort_values(by=[\"Time Stamp\", \"Name\"], ascending=[True, True])\n",
    "\n",
    "# merge the two marginal congestion cost columns \n",
    "df['Marginal Cost Congestion ($/MWHr)'] = df['Marginal Cost Congestion ($/MWHr)'].fillna(df['Marginal Cost Congestion ($/MWH'])\n",
    "df.drop(columns=['Marginal Cost Congestion ($/MWH'], inplace=True)"
   ]
  },
  {
   "cell_type": "code",
   "execution_count": 86,
   "metadata": {},
   "outputs": [],
   "source": [
    "# runtime: 11 minutes\n",
    "\n",
    "df.to_csv('data/damlbmp_gen_1999-2024.csv', index=False)"
   ]
  },
  {
   "cell_type": "markdown",
   "metadata": {},
   "source": [
    "RT LBMP (1999-2024)"
   ]
  },
  {
   "cell_type": "code",
   "execution_count": 113,
   "metadata": {},
   "outputs": [],
   "source": [
    "url = 'http://mis.nyiso.com/public/P-24Alist.htm'\n",
    "soup = get_soup_obj(url)\n",
    "zipfile_urls = get_zipfile_urls(soup, 'http://mis.nyiso.com/public')"
   ]
  },
  {
   "cell_type": "code",
   "execution_count": 107,
   "metadata": {},
   "outputs": [],
   "source": [
    "# # exclude zipfiles before 2010\n",
    "# start_year = 2010\n",
    "# zipfile_years = [int(url.split(\"/\")[-1].split(\"_\")[0][0:4]) for url in zipfile_urls]\n",
    "# target_zipfile_mask = [year >= start_year for year in zipfile_years]\n",
    "# target_zipfile_urls = [url for url, mask in zip(zipfile_urls, target_zipfile_mask) if mask]"
   ]
  },
  {
   "cell_type": "code",
   "execution_count": 114,
   "metadata": {},
   "outputs": [],
   "source": [
    "# runtime: 6 minutes\n",
    "df = zipfiles_to_df(zipfile_urls)"
   ]
  },
  {
   "cell_type": "code",
   "execution_count": 115,
   "metadata": {},
   "outputs": [
    {
     "data": {
      "text/html": [
       "<div>\n",
       "<style scoped>\n",
       "    .dataframe tbody tr th:only-of-type {\n",
       "        vertical-align: middle;\n",
       "    }\n",
       "\n",
       "    .dataframe tbody tr th {\n",
       "        vertical-align: top;\n",
       "    }\n",
       "\n",
       "    .dataframe thead th {\n",
       "        text-align: right;\n",
       "    }\n",
       "</style>\n",
       "<table border=\"1\" class=\"dataframe\">\n",
       "  <thead>\n",
       "    <tr style=\"text-align: right;\">\n",
       "      <th></th>\n",
       "      <th>Time Stamp</th>\n",
       "      <th>Name</th>\n",
       "      <th>PTID</th>\n",
       "      <th>LBMP ($/MWHr)</th>\n",
       "      <th>Marginal Cost Losses ($/MWHr)</th>\n",
       "      <th>Marginal Cost Congestion ($/MWHr)</th>\n",
       "    </tr>\n",
       "  </thead>\n",
       "  <tbody>\n",
       "    <tr>\n",
       "      <th>0</th>\n",
       "      <td>05/01/2024 00:05:00</td>\n",
       "      <td>CAPITL</td>\n",
       "      <td>61757</td>\n",
       "      <td>19.43</td>\n",
       "      <td>0.55</td>\n",
       "      <td>0.0</td>\n",
       "    </tr>\n",
       "    <tr>\n",
       "      <th>1</th>\n",
       "      <td>05/01/2024 00:05:00</td>\n",
       "      <td>CENTRL</td>\n",
       "      <td>61754</td>\n",
       "      <td>19.00</td>\n",
       "      <td>0.11</td>\n",
       "      <td>0.0</td>\n",
       "    </tr>\n",
       "    <tr>\n",
       "      <th>2</th>\n",
       "      <td>05/01/2024 00:05:00</td>\n",
       "      <td>DUNWOD</td>\n",
       "      <td>61760</td>\n",
       "      <td>19.94</td>\n",
       "      <td>1.06</td>\n",
       "      <td>0.0</td>\n",
       "    </tr>\n",
       "    <tr>\n",
       "      <th>3</th>\n",
       "      <td>05/01/2024 00:05:00</td>\n",
       "      <td>GENESE</td>\n",
       "      <td>61753</td>\n",
       "      <td>18.88</td>\n",
       "      <td>0.00</td>\n",
       "      <td>0.0</td>\n",
       "    </tr>\n",
       "    <tr>\n",
       "      <th>4</th>\n",
       "      <td>05/01/2024 00:05:00</td>\n",
       "      <td>H Q</td>\n",
       "      <td>61844</td>\n",
       "      <td>18.81</td>\n",
       "      <td>-0.08</td>\n",
       "      <td>0.0</td>\n",
       "    </tr>\n",
       "    <tr>\n",
       "      <th>...</th>\n",
       "      <td>...</td>\n",
       "      <td>...</td>\n",
       "      <td>...</td>\n",
       "      <td>...</td>\n",
       "      <td>...</td>\n",
       "      <td>...</td>\n",
       "    </tr>\n",
       "    <tr>\n",
       "      <th>5695</th>\n",
       "      <td>11/30/1999 23:56:42</td>\n",
       "      <td>NORTH</td>\n",
       "      <td>61755</td>\n",
       "      <td>27.22</td>\n",
       "      <td>-0.36</td>\n",
       "      <td>0.0</td>\n",
       "    </tr>\n",
       "    <tr>\n",
       "      <th>5696</th>\n",
       "      <td>11/30/1999 23:56:42</td>\n",
       "      <td>NPX</td>\n",
       "      <td>61845</td>\n",
       "      <td>28.11</td>\n",
       "      <td>0.53</td>\n",
       "      <td>0.0</td>\n",
       "    </tr>\n",
       "    <tr>\n",
       "      <th>5697</th>\n",
       "      <td>11/30/1999 23:56:42</td>\n",
       "      <td>O H</td>\n",
       "      <td>61846</td>\n",
       "      <td>26.83</td>\n",
       "      <td>-0.75</td>\n",
       "      <td>0.0</td>\n",
       "    </tr>\n",
       "    <tr>\n",
       "      <th>5698</th>\n",
       "      <td>11/30/1999 23:56:42</td>\n",
       "      <td>PJM</td>\n",
       "      <td>61847</td>\n",
       "      <td>26.80</td>\n",
       "      <td>-0.78</td>\n",
       "      <td>0.0</td>\n",
       "    </tr>\n",
       "    <tr>\n",
       "      <th>5699</th>\n",
       "      <td>11/30/1999 23:56:42</td>\n",
       "      <td>WEST</td>\n",
       "      <td>61752</td>\n",
       "      <td>26.90</td>\n",
       "      <td>-0.68</td>\n",
       "      <td>0.0</td>\n",
       "    </tr>\n",
       "  </tbody>\n",
       "</table>\n",
       "<p>41721915 rows × 6 columns</p>\n",
       "</div>"
      ],
      "text/plain": [
       "               Time Stamp    Name   PTID  LBMP ($/MWHr)  \\\n",
       "0     05/01/2024 00:05:00  CAPITL  61757          19.43   \n",
       "1     05/01/2024 00:05:00  CENTRL  61754          19.00   \n",
       "2     05/01/2024 00:05:00  DUNWOD  61760          19.94   \n",
       "3     05/01/2024 00:05:00  GENESE  61753          18.88   \n",
       "4     05/01/2024 00:05:00     H Q  61844          18.81   \n",
       "...                   ...     ...    ...            ...   \n",
       "5695  11/30/1999 23:56:42   NORTH  61755          27.22   \n",
       "5696  11/30/1999 23:56:42     NPX  61845          28.11   \n",
       "5697  11/30/1999 23:56:42     O H  61846          26.83   \n",
       "5698  11/30/1999 23:56:42     PJM  61847          26.80   \n",
       "5699  11/30/1999 23:56:42    WEST  61752          26.90   \n",
       "\n",
       "      Marginal Cost Losses ($/MWHr)  Marginal Cost Congestion ($/MWHr)  \n",
       "0                              0.55                                0.0  \n",
       "1                              0.11                                0.0  \n",
       "2                              1.06                                0.0  \n",
       "3                              0.00                                0.0  \n",
       "4                             -0.08                                0.0  \n",
       "...                             ...                                ...  \n",
       "5695                          -0.36                                0.0  \n",
       "5696                           0.53                                0.0  \n",
       "5697                          -0.75                                0.0  \n",
       "5698                          -0.78                                0.0  \n",
       "5699                          -0.68                                0.0  \n",
       "\n",
       "[41721915 rows x 6 columns]"
      ]
     },
     "execution_count": 115,
     "metadata": {},
     "output_type": "execute_result"
    }
   ],
   "source": [
    "df"
   ]
  },
  {
   "cell_type": "code",
   "execution_count": 116,
   "metadata": {},
   "outputs": [],
   "source": [
    "# runtime: 2 minutes\n",
    "\n",
    "# Apply datetime format to the 'Time Stamp' column\n",
    "df[\"Time Stamp\"] = pd.to_datetime(df[\"Time Stamp\"], format=\"%m/%d/%Y %H:%M:%S\")\n",
    "\n",
    "# sort in chronological order\n",
    "df = df.sort_values(by=[\"Time Stamp\", \"Name\"], ascending=[True, True])\n"
   ]
  },
  {
   "cell_type": "code",
   "execution_count": 117,
   "metadata": {},
   "outputs": [],
   "source": [
    "df.to_csv('data/rtlbmp_zone_1999-2024.csv', index=False)"
   ]
  }
 ],
 "metadata": {
  "kernelspec": {
   "display_name": "venv",
   "language": "python",
   "name": "python3"
  },
  "language_info": {
   "codemirror_mode": {
    "name": "ipython",
    "version": 3
   },
   "file_extension": ".py",
   "mimetype": "text/x-python",
   "name": "python",
   "nbconvert_exporter": "python",
   "pygments_lexer": "ipython3",
   "version": "3.11.1"
  }
 },
 "nbformat": 4,
 "nbformat_minor": 2
}
